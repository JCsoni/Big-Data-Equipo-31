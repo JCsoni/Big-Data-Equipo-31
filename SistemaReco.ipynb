{
  "nbformat": 4,
  "nbformat_minor": 0,
  "metadata": {
    "colab": {
      "provenance": []
    },
    "kernelspec": {
      "name": "python3",
      "display_name": "Python 3"
    },
    "language_info": {
      "name": "python"
    }
  },
  "cells": [
    {
      "cell_type": "code",
      "execution_count": 2,
      "metadata": {
        "colab": {
          "base_uri": "https://localhost:8080/"
        },
        "id": "L_jtVfS-3NHu",
        "outputId": "0d802ae7-ca2f-47b6-e68d-29158a06b3c4"
      },
      "outputs": [
        {
          "output_type": "stream",
          "name": "stdout",
          "text": [
            "Collecting scikit-surprise\n",
            "  Using cached scikit-surprise-1.1.3.tar.gz (771 kB)\n",
            "  Preparing metadata (setup.py) ... \u001b[?25l\u001b[?25hdone\n",
            "Requirement already satisfied: joblib>=1.0.0 in /usr/local/lib/python3.10/dist-packages (from scikit-surprise) (1.4.2)\n",
            "Requirement already satisfied: numpy>=1.17.3 in /usr/local/lib/python3.10/dist-packages (from scikit-surprise) (1.25.2)\n",
            "Requirement already satisfied: scipy>=1.3.2 in /usr/local/lib/python3.10/dist-packages (from scikit-surprise) (1.11.4)\n",
            "Building wheels for collected packages: scikit-surprise\n",
            "  Building wheel for scikit-surprise (setup.py) ... \u001b[?25l\u001b[?25hdone\n",
            "  Created wheel for scikit-surprise: filename=scikit_surprise-1.1.3-cp310-cp310-linux_x86_64.whl size=3162996 sha256=a7d8dbfec1be5beb62c4174f32770347b1b64765766e0ed71bfca88210b943bd\n",
            "  Stored in directory: /root/.cache/pip/wheels/a5/ca/a8/4e28def53797fdc4363ca4af740db15a9c2f1595ebc51fb445\n",
            "Successfully built scikit-surprise\n",
            "Installing collected packages: scikit-surprise\n",
            "Successfully installed scikit-surprise-1.1.3\n"
          ]
        }
      ],
      "source": [
        "# Instalar la librería surprise\n",
        "!pip install scikit-surprise\n"
      ]
    },
    {
      "cell_type": "code",
      "source": [
        "\n",
        "# Importar las librerías necesarias\n",
        "from surprise import Dataset, Reader, SVD\n",
        "from surprise.model_selection import cross_validate\n",
        "\n",
        "# Cargar el dataset de MovieLens\n",
        "data = Dataset.load_builtin('ml-100k')\n",
        "\n",
        "# Crear una instancia del algoritmo SVD\n",
        "algo = SVD()\n",
        "\n",
        "# Validación cruzada de 5 pliegues\n",
        "cross_validate(algo, data, measures=['RMSE', 'MAE'], cv=5, verbose=True)\n",
        "\n",
        "# Entrenar el modelo con toda la info\n",
        "trainset = data.build_full_trainset()\n",
        "algo.fit(trainset)\n",
        "\n",
        "# Hacer una predicción para un usuario y una película específicos\n",
        "uid = str(196)  # ID del usuario\n",
        "iid = str(302)  # ID de la película\n",
        "\n",
        "# Hacer la predicción si son compatibles (0-5)\n",
        "pred = algo.predict(uid, iid)\n",
        "print ('Redomendación:', pred)\n"
      ],
      "metadata": {
        "colab": {
          "base_uri": "https://localhost:8080/"
        },
        "id": "5x_4O30F4OIY",
        "outputId": "2a694953-a068-45e1-9a9f-bf031dfd6290"
      },
      "execution_count": 6,
      "outputs": [
        {
          "output_type": "stream",
          "name": "stdout",
          "text": [
            "Evaluating RMSE, MAE of algorithm SVD on 5 split(s).\n",
            "\n",
            "                  Fold 1  Fold 2  Fold 3  Fold 4  Fold 5  Mean    Std     \n",
            "RMSE (testset)    0.9365  0.9318  0.9418  0.9381  0.9348  0.9366  0.0033  \n",
            "MAE (testset)     0.7377  0.7318  0.7447  0.7383  0.7383  0.7382  0.0041  \n",
            "Fit time          2.15    1.38    1.57    1.31    1.30    1.54    0.32    \n",
            "Test time         0.22    0.30    0.13    0.21    0.22    0.21    0.05    \n",
            "Redomendación: user: 196        item: 302        r_ui = None   est = 4.37   {'was_impossible': False}\n"
          ]
        }
      ]
    }
  ]
}